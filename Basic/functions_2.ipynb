{
 "cells": [
  {
   "cell_type": "markdown",
   "id": "2cdb1fd4",
   "metadata": {},
   "source": [
    "- Combining dictionary, list and functions: simple function to calculate the costs of the shopping cart."
   ]
  },
  {
   "cell_type": "code",
   "execution_count": 4,
   "id": "3a804663",
   "metadata": {},
   "outputs": [
    {
     "name": "stdout",
     "output_type": "stream",
     "text": [
      "Total cost of items in the cart: €13.43\n"
     ]
    }
   ],
   "source": [
    "def total_cart_cost(cart):\n",
    "    \"\"\"\n",
    "    Calculate the total cost of items in the shopping cart.\n",
    "\n",
    "    Args:\n",
    "        cart (list of dict): A list where each item is a dictionary with 'price' and 'quantity'.\n",
    "\n",
    "    Returns:\n",
    "        float: The total cost of the items in the cart.\n",
    "    \"\"\"\n",
    "    total_cost = 0.0\n",
    "    for item in cart:\n",
    "        total_cost += item['price'] * item['quantity']\n",
    "    return total_cost\n",
    "\n",
    "cart = [\n",
    "    {'name': 'apple','price': 1.99, 'quantity': 2},\n",
    "    {'name': 'mango','price': 1.49, 'quantity': 1},\n",
    "    {'name': 'orange','price': 1.99, 'quantity': 4}\n",
    "]\n",
    "\n",
    "print(f'Total cost of items in the cart: €{total_cart_cost(cart):.2f}')"
   ]
  },
  {
   "cell_type": "markdown",
   "id": "f6f57993",
   "metadata": {},
   "source": [
    "- Check if a String is palindrome or not"
   ]
  },
  {
   "cell_type": "code",
   "execution_count": 6,
   "id": "ab4fb1af",
   "metadata": {},
   "outputs": [
    {
     "name": "stdout",
     "output_type": "stream",
     "text": [
      "\"Madam Im Ada\" is not a palindrome.\n"
     ]
    }
   ],
   "source": [
    "def is_palindrome(s):\n",
    "    \"\"\"\n",
    "    Check if a given string is a palindrome.\n",
    "\n",
    "    Args:\n",
    "        s (str): The string to check.\n",
    "\n",
    "    Returns:\n",
    "        bool: True if the string is a palindrome, False otherwise.\n",
    "    \"\"\"\n",
    "    # remove spaces and convert to lowercase for uniformity\n",
    "    s = s.lower().replace(\" \", \"\")\n",
    "    return s == s[::-1]\n",
    "\n",
    "# Example usage\n",
    "test_string = \"Madam Im Ada\"\n",
    "if is_palindrome(test_string):\n",
    "    print(f'\"{test_string}\" is a palindrome.')  \n",
    "else:\n",
    "    print(f'\"{test_string}\" is not a palindrome.')"
   ]
  },
  {
   "cell_type": "markdown",
   "id": "b6d57731",
   "metadata": {},
   "source": [
    "- Read a file and count the number of words in it."
   ]
  },
  {
   "cell_type": "code",
   "execution_count": 12,
   "id": "aefa3305",
   "metadata": {},
   "outputs": [
    {
     "name": "stdout",
     "output_type": "stream",
     "text": [
      "The file contains 13 words.\n",
      "Word frequencies in the file: {'hello,': 1, 'i': 2, 'am': 2, 'redoing': 1, 'python': 1, 'to': 1, 'study': 1, 'genai.': 1, 'not': 1, 'an': 1, 'ai.': 1}\n"
     ]
    }
   ],
   "source": [
    "def count_words_in_file(file_path):\n",
    "    \"\"\"\n",
    "    Count the number of words in a file.\n",
    "\n",
    "    Args:\n",
    "        file_path (str): The path to the file.\n",
    "\n",
    "    Returns:\n",
    "        int: The number of words in the file.\n",
    "    \"\"\"\n",
    "    try:\n",
    "        with open(file_path, 'r') as file:\n",
    "            content = file.read()\n",
    "            words = content.split()\n",
    "            return len(words)\n",
    "    except FileNotFoundError:\n",
    "        print(f\"The file at {file_path} was not found.\")\n",
    "        return 0\n",
    "    \n",
    "def word_frequency(file_path):\n",
    "    \"\"\"\n",
    "    Count the frequency of each word in a file.\n",
    "\n",
    "    Args:\n",
    "        file_path (str): The path to the file.\n",
    "\n",
    "    Returns:\n",
    "        dict: A dictionary with words as keys and their frequencies as values.\n",
    "    \"\"\"\n",
    "    try:\n",
    "        with open(file_path, 'r') as file:\n",
    "            content = file.read().lower()\n",
    "            words = content.split()\n",
    "            frequency = {}\n",
    "            for word in words:\n",
    "                frequency[word] = frequency.get(word, 0) + 1\n",
    "            return frequency\n",
    "    except FileNotFoundError:\n",
    "        print(f\"The file at {file_path} was not found.\")\n",
    "        return {}\n",
    "    \n",
    "# Example usage\n",
    "file_path = '..\\\\PyFiles\\\\example.txt'  # Replace with your file path\n",
    "word_count = count_words_in_file(file_path)\n",
    "print(f'The file contains {word_count} words.')\n",
    "\n",
    "word_freq = word_frequency(file_path)\n",
    "print(\"Word frequencies in the file:\", word_freq)"
   ]
  },
  {
   "cell_type": "markdown",
   "id": "ef82e3e3",
   "metadata": {},
   "source": [
    "- Lambda functions: anonymous functions defined with lambda, any number of arguments but only 1 expression. Used for short operations"
   ]
  },
  {
   "cell_type": "code",
   "execution_count": null,
   "id": "3febf58d",
   "metadata": {},
   "outputs": [
    {
     "name": "stdout",
     "output_type": "stream",
     "text": [
      "Square of 5 is: 25\n"
     ]
    }
   ],
   "source": [
    "# synatax: lambda arguments: expression from the arguments\n",
    "square = lambda x: x * x\n",
    "print(f'Square of 5 is: {square(5)}')"
   ]
  },
  {
   "cell_type": "markdown",
   "id": "15d6e202",
   "metadata": {},
   "source": [
    "- Map function: applies a given function to all items in an input list. useful for transforming data in a list (or any iterables in general) comprehensively.\n",
    "\n",
    "- Filter function: constructs an itertor from elements of an iterable for which function returns a true. Used to filter a list or any iterable in general"
   ]
  },
  {
   "cell_type": "code",
   "execution_count": 3,
   "id": "372ea340",
   "metadata": {},
   "outputs": [
    {
     "name": "stdout",
     "output_type": "stream",
     "text": [
      "Even numbers: [4, 6, 8, 10]\n",
      "Squared numbers: [1, 4, 9, 16, 25]\n"
     ]
    }
   ],
   "source": [
    "# example of a map function\n",
    "def square_numbers(numbers):\n",
    "    \"\"\"\n",
    "    Square each number in a list using map and lambda.\n",
    "\n",
    "    Args:\n",
    "        numbers (list): A list of numbers.\n",
    "\n",
    "    Returns:\n",
    "        list: A list of squared numbers.\n",
    "    \"\"\"\n",
    "    return list(map(lambda x: x * x, numbers))  # or map(square, numbers) if square is defined\n",
    "\n",
    "def filter_even_numbers(numbers):\n",
    "    \"\"\"\n",
    "    Filter even numbers from a list using filter and lambda.\n",
    "\n",
    "    Args:\n",
    "        numbers (list): A list of numbers.\n",
    "\n",
    "    Returns:\n",
    "        list: A list of even numbers.\n",
    "    \"\"\"\n",
    "    return list(filter(lambda x: x % 2 == 0, numbers))  # or filter(is_even, numbers) if is_even is defined\n",
    "\n",
    "# Example usage of map and filter\n",
    "even_numbers = filter_even_numbers([1,3, 4, 5, 6, 7, 8, 9, 10])\n",
    "print(f'Even numbers: {even_numbers}')\n",
    "\n",
    "numbers = [1, 2, 3, 4, 5]\n",
    "squared_numbers = square_numbers(numbers)\n",
    "print(f'Squared numbers: {squared_numbers}')"
   ]
  }
 ],
 "metadata": {
  "kernelspec": {
   "display_name": "pyprog",
   "language": "python",
   "name": "python3"
  },
  "language_info": {
   "codemirror_mode": {
    "name": "ipython",
    "version": 3
   },
   "file_extension": ".py",
   "mimetype": "text/x-python",
   "name": "python",
   "nbconvert_exporter": "python",
   "pygments_lexer": "ipython3",
   "version": "3.12.7"
  }
 },
 "nbformat": 4,
 "nbformat_minor": 5
}
