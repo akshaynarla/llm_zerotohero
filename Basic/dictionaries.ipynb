{
 "cells": [
  {
   "cell_type": "markdown",
   "id": "6e2db510",
   "metadata": {},
   "source": [
    "- Dictionaries are unordered collection of items. They store data in key-value pairs. Key is immutable, while values are dynamic."
   ]
  },
  {
   "cell_type": "code",
   "execution_count": null,
   "id": "b0521738",
   "metadata": {},
   "outputs": [
    {
     "name": "stdout",
     "output_type": "stream",
     "text": [
      "{}\n",
      "{'key1': 'value1', 'key2': 'value2'}\n"
     ]
    },
    {
     "data": {
      "text/plain": [
       "'value1'"
      ]
     },
     "execution_count": 5,
     "metadata": {},
     "output_type": "execute_result"
    }
   ],
   "source": [
    "empty_dict ={} # or dict()\n",
    "# This script initializes an empty dictionary in Python.\n",
    "print(empty_dict)\n",
    "\n",
    "# new_dict = empty_dict + {'key1': 'value1', 'key2': 'value2'} or append will raise an error as \n",
    "# dictionaries cannot be concatenated like lists.\n",
    "# Instead, you can update the dictionary using the update method.\n",
    "\n",
    "empty_dict.update({'key1': 'value1', 'key2': 'value2'})\n",
    "print(empty_dict)  # Output: {'key1': 'value1', 'key2: 'value2'}\n",
    "\n",
    "empty_dict.get('key1')  # This will return 'value1'\n",
    "# If the key does not exist, it will return None or you can specify what to return in the next argument."
   ]
  },
  {
   "cell_type": "code",
   "execution_count": 19,
   "id": "2cd6a170",
   "metadata": {},
   "outputs": [
    {
     "name": "stdout",
     "output_type": "stream",
     "text": [
      "{'Player': 'Virat', 'Country': 'India', 'Runs': 10000}\n",
      "Virat\n",
      "{'Player': 'Virat', 'Country': 'India', 'Runs': 11000}\n",
      "{'Player': 'Virat', 'Country': 'India', 'Runs': 11000, 'Matches': 200}\n"
     ]
    }
   ],
   "source": [
    "# Modifying dictionary elements\n",
    "new_dict = {'Player': 'Virat', 'Country': 'India', 'Runs': 10000}\n",
    "print(new_dict)\n",
    "print(new_dict['Player'])  # Output: Virat\n",
    "new_dict['Runs'] = 11000  # Update the value for 'Runs'\n",
    "print(new_dict)  # Output: {'Player': 'Virat', 'Country': 'India', 'Runs': 11000}\n",
    "new_dict['Matches'] = 200  # Adding a new key-value pair\n",
    "print(new_dict)  # Output: {'Player': 'Virat', 'Country': 'India', 'Runs': 11000, 'Matches': 200}"
   ]
  },
  {
   "cell_type": "code",
   "execution_count": null,
   "id": "d4f39ed5",
   "metadata": {},
   "outputs": [
    {
     "name": "stdout",
     "output_type": "stream",
     "text": [
      "{'Player': 'Rohit', 'Country': 'India', 'Runs': 11000, 'Matches': 200}\n",
      "{'Player': 'Rohit', 'Country': 'India', 'Runs': 11000, 'Matches': 200}\n",
      "{'Player': 'Rohit', 'Country': 'India', 'Runs': 11000, 'Matches': 200}\n",
      "{'Player': 'Rohit', 'Country': 'India', 'Runs': 11000, 'Matches': 200, 'new_data': 'new_value'}\n"
     ]
    }
   ],
   "source": [
    "# shallow copy: In normal shallow_copy_dict = new_dict, both variables point to the same dictionary object.\n",
    "# If you modify new_dict, shallow_copy_dict will also reflect those changes.\n",
    "shallow_copy_dict = new_dict.copy()\n",
    "print(shallow_copy_dict)  # Output: {'Player': 'Virat', 'Country': 'India', 'Runs': 11000, 'Matches': 200}\n",
    "new_dict['Player'] = 'Rohit'  # Change in original dictionary\n",
    "print(new_dict)  # Output: {'Player': 'Rohit', 'Country': 'India', 'Runs': 11000, 'Matches': 200}\n",
    "print(shallow_copy_dict)  # Output: {'Player': 'Virat', 'Country': 'India', 'Runs': 11000, 'Matches': 200}\n",
    "\n",
    "second_dict = {'new_data': 'new_value'}\n",
    "# Merging dictionaries\n",
    "merge_dict = {**new_dict, **second_dict}\n",
    "# This creates a new dictionary that contains all key-value pairs from both dictionaries.\n",
    "print(merge_dict)  # if you have same keys, then it overwrites the value from the second dictionary"
   ]
  },
  {
   "cell_type": "code",
   "execution_count": 9,
   "id": "fa261770",
   "metadata": {},
   "outputs": [
    {
     "name": "stdout",
     "output_type": "stream",
     "text": [
      "Player: Rohit\n",
      "Country: India\n",
      "Runs: 11000\n",
      "Matches: 200\n",
      "Key: Player, Value: Rohit\n",
      "Key: Country, Value: India\n",
      "Key: Runs, Value: 11000\n",
      "Key: Matches, Value: 200\n"
     ]
    }
   ],
   "source": [
    "# Iterating through a dictionary\n",
    "for key, value in new_dict.items():\n",
    "    print(f\"{key}: {value}\")\n",
    "\n",
    "for key in new_dict:\n",
    "    print(f\"Key: {key}, Value: {new_dict[key]}\")"
   ]
  },
  {
   "cell_type": "code",
   "execution_count": 10,
   "id": "72a6b2cc",
   "metadata": {},
   "outputs": [
    {
     "name": "stdout",
     "output_type": "stream",
     "text": [
      "Stats: {'Runs': 10000, 'Matches': 200}\n",
      "Runs: 10000\n"
     ]
    }
   ],
   "source": [
    "# Nested dictionaries\n",
    "nested_dict = {\n",
    "    'Player': {\n",
    "        'Name': 'Virat',\n",
    "        'Country': 'India',\n",
    "        'Stats': {\n",
    "            'Runs': 10000,\n",
    "            'Matches': 200\n",
    "        }\n",
    "    }\n",
    "}\n",
    "\n",
    "# accessing nested dictionary elements\n",
    "print(\"Stats:\", nested_dict['Player']['Stats'])\n",
    "print(\"Runs:\", nested_dict['Player']['Stats']['Runs'])"
   ]
  },
  {
   "cell_type": "code",
   "execution_count": null,
   "id": "ca117def",
   "metadata": {},
   "outputs": [
    {
     "name": "stdout",
     "output_type": "stream",
     "text": [
      "Squared Dictionary: {1: 1, 2: 4, 3: 9, 4: 16, 5: 25}\n"
     ]
    }
   ],
   "source": [
    "# Dictionary comprehension\n",
    "squared_dict = {x: x**2 for x in range(1, 6)} # you can also extend this with conditions like {x: x**2 for x in range(1, 6) if x % 2 == 0}\n",
    "# This creates a dictionary where keys are numbers from 1 to 5 and values are their squares\n",
    "print(\"Squared Dictionary:\", squared_dict)  # Output: {1: 1, 2: 4, 3: 9, 4: 16, 5: 25}\n",
    "# This creates a dictionary where keys are numbers from 1 to 5 and values are their squares"
   ]
  }
 ],
 "metadata": {
  "kernelspec": {
   "display_name": "pyprog",
   "language": "python",
   "name": "python3"
  },
  "language_info": {
   "codemirror_mode": {
    "name": "ipython",
    "version": 3
   },
   "file_extension": ".py",
   "mimetype": "text/x-python",
   "name": "python",
   "nbconvert_exporter": "python",
   "pygments_lexer": "ipython3",
   "version": "3.12.7"
  }
 },
 "nbformat": 4,
 "nbformat_minor": 5
}
