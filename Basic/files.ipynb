{
 "cells": [
  {
   "cell_type": "markdown",
   "id": "d12de119",
   "metadata": {},
   "source": [
    "- Operations with Files: Read and Write."
   ]
  },
  {
   "cell_type": "code",
   "execution_count": 14,
   "id": "574054d2",
   "metadata": {},
   "outputs": [
    {
     "name": "stdout",
     "output_type": "stream",
     "text": [
      "Line: Hello, I am redoing python to study\n",
      "Line: GenAI. I am not an AI.\n",
      "<_io.TextIOWrapper name='../PyFiles/example.txt' mode='r' encoding='utf-8'>\n",
      "The entire content is: Hello, I am redoing python to study\n",
      "GenAI. I am not an AI.\n"
     ]
    }
   ],
   "source": [
    "with open(\"../PyFiles/example.txt\", \"r\") as file:\n",
    "    for line in file:\n",
    "        print(\"Line:\", line.strip())  # Print each line without extra newline characters\n",
    "    print(file)  # Print the file object itself, because the file reached the end with for loop\n",
    "    file.seek(0)  # Reset file pointer to the beginning\n",
    "    content = file.read()     # Read the content of the file\n",
    "    print(\"The entire content is:\", content)"
   ]
  },
  {
   "cell_type": "code",
   "execution_count": null,
   "id": "a55e8fb2",
   "metadata": {},
   "outputs": [
    {
     "name": "stdout",
     "output_type": "stream",
     "text": [
      "New line added successfully.\n",
      "The entire content is: Hello, I am redoing python to study\n",
      "GenAI. I am not an AI.\n",
      "This is a new line added to the file.\n",
      "This is a new line added to the file.\n",
      "This is a new line added to the file.\n",
      "This is a new line added to the file.\n",
      "This is a new line added to the file.Line 1Line 2Line 3\n",
      "This is a new line added to the file.Line 1\n",
      "Line 2\n",
      "Line 3\n"
     ]
    }
   ],
   "source": [
    "lines = [\"Line 1\\n\", \"Line 2\\n\", \"Line 3\"]  # Example list of lines to write\n",
    "\n",
    "with open(\"../PyFiles/example.txt\", \"a\") as file: # Open the file in append mode and not overwrite mode with w\n",
    "    # w+ mode will read and write simulataneously, but here we only want to append\n",
    "    file.write(\"\\nThis is a new line added to the file.\")  # Append a new line to the file\n",
    "    print(\"New line added successfully.\")\n",
    "    lines = file.writelines(lines)  # Read all lines after appending\n",
    "    # content = file.read()     # cannot read here as this is an append operation\n",
    "    \n",
    "with open(\"../PyFiles/example.txt\", \"r\") as file:\n",
    "    content = file.read()     # Read the content of the file after appending    \n",
    "    print(\"The entire content is:\", content)"
   ]
  }
 ],
 "metadata": {
  "kernelspec": {
   "display_name": "pyprog",
   "language": "python",
   "name": "python3"
  },
  "language_info": {
   "codemirror_mode": {
    "name": "ipython",
    "version": 3
   },
   "file_extension": ".py",
   "mimetype": "text/x-python",
   "name": "python",
   "nbconvert_exporter": "python",
   "pygments_lexer": "ipython3",
   "version": "3.12.7"
  }
 },
 "nbformat": 4,
 "nbformat_minor": 5
}
