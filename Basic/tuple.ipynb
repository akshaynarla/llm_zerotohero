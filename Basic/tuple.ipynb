{
 "cells": [
  {
   "cell_type": "markdown",
   "id": "60d57989",
   "metadata": {},
   "source": [
    "- Tuples are immutable, ordered collection of items. Kind of like lists, but immutable."
   ]
  },
  {
   "cell_type": "code",
   "execution_count": null,
   "id": "b5346cd6",
   "metadata": {},
   "outputs": [
    {
     "name": "stdout",
     "output_type": "stream",
     "text": [
      "()\n",
      "[]\n"
     ]
    }
   ],
   "source": [
    "empty_tuple = () # or empty_tuple = tuple()\n",
    "print(empty_tuple)  # Output: ()\n",
    "empty_list = list()\n",
    "print(empty_list)  # Output: []"
   ]
  },
  {
   "cell_type": "code",
   "execution_count": 4,
   "id": "3de5dce3",
   "metadata": {},
   "outputs": [
    {
     "name": "stdout",
     "output_type": "stream",
     "text": [
      "(1, 2, 3)\n"
     ]
    }
   ],
   "source": [
    "# converting list to tuple and vice versa\n",
    "my_list = [1, 2, 3]\n",
    "my_tuple = tuple(my_list)\n",
    "print(my_tuple)  # Output: (1, 2, 3)"
   ]
  },
  {
   "cell_type": "code",
   "execution_count": 6,
   "id": "068f54c9",
   "metadata": {},
   "outputs": [
    {
     "name": "stdout",
     "output_type": "stream",
     "text": [
      "(1, 3.14, 'hello', 4, 5)\n",
      "(1, 3.14, 'hello', 4, 5, 1, 3.14, 'hello', 4, 5, 1, 3.14, 'hello', 4, 5)\n"
     ]
    }
   ],
   "source": [
    "# tuple operations\n",
    "tuple_1 = (1, 3.14, \"hello\")\n",
    "concat_tuple = tuple_1 + (4, 5)  # Concatenation\n",
    "print(concat_tuple)  # Output: (1, 3.14, \"hello\", 4, 5)\n",
    "print(concat_tuple*3)"
   ]
  },
  {
   "cell_type": "code",
   "execution_count": 8,
   "id": "51905cd5",
   "metadata": {},
   "outputs": [
    {
     "name": "stdout",
     "output_type": "stream",
     "text": [
      "[10, 2, 3]\n"
     ]
    }
   ],
   "source": [
    "# Immutable nature of tuples\n",
    "# Attempting to change an element will raise an error\n",
    "list_1 = [1, 2, 3]\n",
    "list_1[0] = 10  # This is allowed\n",
    "print(list_1)  # Output: [10, 2, 3]\n",
    "\n",
    "tuple_1 = (1, 2, 3)\n",
    "# tuple_1[0] = 10  # This will raise a TypeError:"
   ]
  },
  {
   "cell_type": "code",
   "execution_count": 9,
   "id": "6cc4f3b3",
   "metadata": {},
   "outputs": [
    {
     "name": "stdout",
     "output_type": "stream",
     "text": [
      "1 2 3\n"
     ]
    }
   ],
   "source": [
    "# packing and unpacking tuples\n",
    "packed_tuple = (1, 2, 3)\n",
    "a, b, c = packed_tuple  # Unpacking\n",
    "print(a, b, c)  # Output: 1 2 3"
   ]
  },
  {
   "cell_type": "code",
   "execution_count": null,
   "id": "aa0b6701",
   "metadata": {},
   "outputs": [
    {
     "name": "stdout",
     "output_type": "stream",
     "text": [
      "['Alice', 'Bob']\n",
      "Alice\n",
      "[1, 2]\n"
     ]
    }
   ],
   "source": [
    "# Nested Lists and Tuples\n",
    "nested_list = [[2,3],[1,2,3],[\"Alice\", \"Bob\"]]\n",
    "print(nested_list[2]) \n",
    "print(nested_list[2][0])  # Output: Alice\n",
    "print(nested_list[1][:2])\n",
    "# tuples work similarly"
   ]
  }
 ],
 "metadata": {
  "kernelspec": {
   "display_name": "pyprog",
   "language": "python",
   "name": "python3"
  },
  "language_info": {
   "codemirror_mode": {
    "name": "ipython",
    "version": 3
   },
   "file_extension": ".py",
   "mimetype": "text/x-python",
   "name": "python",
   "nbconvert_exporter": "python",
   "pygments_lexer": "ipython3",
   "version": "3.12.7"
  }
 },
 "nbformat": 4,
 "nbformat_minor": 5
}
