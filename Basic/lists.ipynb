{
 "cells": [
  {
   "cell_type": "code",
   "execution_count": 35,
   "metadata": {},
   "outputs": [
    {
     "data": {
      "text/plain": [
       "2"
      ]
     },
     "execution_count": 35,
     "metadata": {},
     "output_type": "execute_result"
    }
   ],
   "source": [
    "1+1"
   ]
  },
  {
   "cell_type": "markdown",
   "metadata": {},
   "source": [
    "- Lists are collection of mutable objects/items of different datatypes. \n",
    "Meaning list can be modified as used. Lots of operations can be performed."
   ]
  },
  {
   "cell_type": "code",
   "execution_count": 40,
   "metadata": {},
   "outputs": [
    {
     "name": "stdout",
     "output_type": "stream",
     "text": [
      "[]\n",
      "Updated list now is: [1, 2, 3]\n",
      "Number of 2's in the list is: 1\n",
      "Updated list after operations is: [1, 2, 3, [2, 3, 4], 'IAS']\n",
      "Number of 2's in the list is: 1\n",
      "Updated list after multiple operation is: [1, 3, [2, 3, 4], 'IAS']\n"
     ]
    }
   ],
   "source": [
    "lst = [] # initializes a list, an empty one which can be later used\n",
    "print(lst) # prints the list\n",
    "lst = lst + [1,2,3]\n",
    "print(\"Updated list now is:\", lst)\n",
    "count2 = lst.count(2) # counts number of 2's in the list\n",
    "print(\"Number of 2's in the list is:\", count2)\n",
    "lst.append([2,3,4])\n",
    "lst.append(\"IAS\")\n",
    "print(\"Updated list after operations is:\", lst)\n",
    "\n",
    "count2 = lst.count(2) # counts number of 2's in the list\n",
    "print(\"Number of 2's in the list is:\", count2)\n",
    "\n",
    "lst.pop(1)\n",
    "print(\"Updated list after multiple operation is:\", lst)"
   ]
  },
  {
   "cell_type": "code",
   "execution_count": 41,
   "metadata": {},
   "outputs": [
    {
     "name": "stdout",
     "output_type": "stream",
     "text": [
      "[3, [2, 3, 4], 'IAS']\n",
      "[1, 3]\n",
      "[1, 3, [2, 3, 4]]\n",
      "Latest list: [1, 3, [2, 3, 4], 'IAS', 2]\n",
      "List after inserting New IAS and appending: [1, 3, 'New IAS', [2, 3, 4], 'IAS', 2, 'IAS']\n"
     ]
    }
   ],
   "source": [
    "lst = [1, 3, [2, 3, 4], 'IAS']\n",
    "# slicing lists\n",
    "print(lst[1:])\n",
    "print(lst[:2])\n",
    "print(lst[:-1])\n",
    "\n",
    "lst.append(2)\n",
    "print(\"Latest list:\", lst)\n",
    "\n",
    "lst.insert(2, \"New IAS\")\n",
    "lst.append(\"IAS\")\n",
    "print(\"List after inserting New IAS and appending:\", lst)"
   ]
  },
  {
   "cell_type": "code",
   "execution_count": 44,
   "metadata": {},
   "outputs": [
    {
     "name": "stdout",
     "output_type": "stream",
     "text": [
      "2\n",
      "[1, 3, 'New IAS', [2, 3, 4], 2, 'IAS']\n",
      "2\n",
      "1\n"
     ]
    }
   ],
   "source": [
    "lst = [1, 3, 'New IAS', [2, 3, 4], 'IAS', 2, 'IAS']\n",
    "print(lst.count(\"IAS\")) # returns the count of the element\n",
    "lst.remove(\"IAS\")\n",
    "print(lst) # removes the first occurence of the element\n",
    "print(lst.index(\"New IAS\")) # returns the index of the element \n",
    "print(lst.count(\"IAS\")) # returns the count of the element"
   ]
  },
  {
   "cell_type": "code",
   "execution_count": 45,
   "metadata": {},
   "outputs": [
    {
     "name": "stdout",
     "output_type": "stream",
     "text": [
      "['IAS', 2, 'IAS', [2, 3, 4], 'New IAS', 3, 1]\n"
     ]
    }
   ],
   "source": [
    "lst = [1, 3, 'New IAS', [2, 3, 4], 'IAS', 2, 'IAS']\n",
    "lst.reverse()\n",
    "print(lst) # reverses the list"
   ]
  },
  {
   "cell_type": "code",
   "execution_count": 49,
   "metadata": {},
   "outputs": [
    {
     "name": "stdout",
     "output_type": "stream",
     "text": [
      "Random list: [43, 78, 77, 73, 47, 85, 34, 40, 6, 19]\n",
      "Sorted list: [6, 19, 34, 40, 43, 47, 73, 77, 78, 85]\n",
      "[6, 34, 43, 73, 78]\n"
     ]
    }
   ],
   "source": [
    "import random\n",
    "\n",
    "lst2 = random.sample(range(1, 100), 10)\n",
    "print(\"Random list:\", lst2)\n",
    "lst2.sort()\n",
    "print(\"Sorted list:\", lst2)\n",
    "print(lst2[::2]) # prints every alternate element"
   ]
  },
  {
   "cell_type": "code",
   "execution_count": 53,
   "metadata": {},
   "outputs": [
    {
     "name": "stdout",
     "output_type": "stream",
     "text": [
      "42 75 68 71 1 64 89 87 11 18 \n",
      "\n",
      "0 42\n",
      "1 75\n",
      "2 68\n",
      "3 71\n",
      "4 1\n",
      "5 64\n",
      "6 89\n",
      "7 87\n",
      "8 11\n",
      "9 18\n",
      "Comprehsion List: [0, 1, 2, 3, 4, 5, 6, 7, 8, 9]\n"
     ]
    }
   ],
   "source": [
    "# list iteration and comprehension\n",
    "import random\n",
    "lst3 = random.sample(range(1, 100), 10)\n",
    "\n",
    "for i in lst3:\n",
    "    print(i, end = \" \")\n",
    "print(\"\\n\")\n",
    "for index, value in enumerate(lst3):\n",
    "    print(index, value)\n",
    "\n",
    "# syntax for list comprehension: [expression for item in list]\n",
    "# syntax for list comprehension with condition: [expression for item in list if condition]\n",
    "# nested list comprehension: [expression for item1 in list1 for item2 in list2]\n",
    "lst4 = [i for i in range(10)] # list comprehension; instrad of initializing a list, manually \n",
    "# appending elements to it over a for loop\n",
    "print(\"Comprehsion List:\", lst4)"
   ]
  },
  {
   "cell_type": "code",
   "execution_count": 60,
   "metadata": {},
   "outputs": [
    {
     "name": "stdout",
     "output_type": "stream",
     "text": [
      "Simple Mapping: [('Class 1', 10), ('Class 1', 20), ('Class 1', 25), ('Class 1', 22), ('Class 2', 10), ('Class 2', 20), ('Class 2', 25), ('Class 2', 22), ('Class 3', 10), ('Class 3', 20), ('Class 3', 25), ('Class 3', 22)]\n",
      "Simple Mapping with condition: [('Class 1', 10), ('Class 1', 20), ('Class 1', 30), ('Class 1', 40)]\n",
      "Nested List Comprehension: [1, 2, 3, 4, 5, 6, 7, 8, 9, 10, 2, 4, 6, 8, 10, 12, 14, 16, 18, 20, 3, 6, 9, 12, 15, 18, 21, 24, 27, 30, 4, 8, 12, 16, 20, 24, 28, 32, 36, 40, 5, 10, 15, 20, 25, 30, 35, 40, 45, 50, 6, 12, 18, 24, 30, 36, 42, 48, 54, 60, 7, 14, 21, 28, 35, 42, 49, 56, 63, 70, 8, 16, 24, 32, 40, 48, 56, 64, 72, 80, 9, 18, 27, 36, 45, 54, 63, 72, 81, 90, 10, 20, 30, 40, 50, 60, 70, 80, 90, 100]\n"
     ]
    }
   ],
   "source": [
    "lst_i = [\"Class 1\", \"Class 2\", \"Class 3\"]\n",
    "lst_j = [10,20,25,22,30,40]\n",
    "simple_mapping = [(i,j) for i in lst_i for j in lst_j if j < 30]\n",
    "print(\"Simple Mapping:\", simple_mapping)\n",
    "\n",
    "simple_mapping2 = [(i,j) for i in lst_i for j in lst_j if i==\"Class 1\" if j % 10 == 0]\n",
    "print(\"Simple Mapping with condition:\", simple_mapping2)\n",
    "\n",
    "# nested list comprehension\n",
    "mapping = [i*j for i in range(1, 11) for j in range(1, 11)]\n",
    "print(\"Nested List Comprehension:\", mapping)\n"
   ]
  }
 ],
 "metadata": {
  "kernelspec": {
   "display_name": "pyprog",
   "language": "python",
   "name": "python3"
  },
  "language_info": {
   "codemirror_mode": {
    "name": "ipython",
    "version": 3
   },
   "file_extension": ".py",
   "mimetype": "text/x-python",
   "name": "python",
   "nbconvert_exporter": "python",
   "pygments_lexer": "ipython3",
   "version": "3.12.7"
  }
 },
 "nbformat": 4,
 "nbformat_minor": 2
}
