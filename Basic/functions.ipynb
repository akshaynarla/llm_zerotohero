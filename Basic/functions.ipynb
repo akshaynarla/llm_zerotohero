{
 "cells": [
  {
   "cell_type": "markdown",
   "id": "8a18ef33",
   "metadata": {},
   "source": [
    "- Functions/Methods: To break down your code to simple, modifiable, modular blocks."
   ]
  },
  {
   "cell_type": "code",
   "execution_count": null,
   "id": "207dd77c",
   "metadata": {},
   "outputs": [
    {
     "name": "stdout",
     "output_type": "stream",
     "text": [
      "Even\n"
     ]
    }
   ],
   "source": [
    "num = 33\n",
    "# Check if the number is even or odd. You'd have to compile everytime you change the number.\n",
    "'''if num%2 == 0:\n",
    "    print(\"Even\")\n",
    "else:\n",
    "    print(\"Odd\")'''\n",
    "# To avoid recompiling, we can use functions."
   ]
  },
  {
   "cell_type": "code",
   "execution_count": 5,
   "id": "9c9e541f",
   "metadata": {},
   "outputs": [],
   "source": [
    "def is_even_odd(num):\n",
    "    if num%2 == 0:\n",
    "        print(\"Even\")\n",
    "    else:\n",
    "        print(\"Odd\")"
   ]
  },
  {
   "cell_type": "code",
   "execution_count": 7,
   "id": "bb6033e4",
   "metadata": {},
   "outputs": [],
   "source": [
    "def addition(a, b):\n",
    "    return a + b"
   ]
  },
  {
   "cell_type": "code",
   "execution_count": 9,
   "id": "5f7b14dd",
   "metadata": {},
   "outputs": [
    {
     "name": "stdout",
     "output_type": "stream",
     "text": [
      "Even\n",
      "The sum is: 15\n"
     ]
    }
   ],
   "source": [
    "is_even_odd(44)\n",
    "added_value = addition(5, 10)\n",
    "print(f\"The sum is: {added_value}\")"
   ]
  },
  {
   "cell_type": "code",
   "execution_count": null,
   "id": "64a70240",
   "metadata": {},
   "outputs": [],
   "source": []
  }
 ],
 "metadata": {
  "kernelspec": {
   "display_name": "pyprog",
   "language": "python",
   "name": "python3"
  },
  "language_info": {
   "codemirror_mode": {
    "name": "ipython",
    "version": 3
   },
   "file_extension": ".py",
   "mimetype": "text/x-python",
   "name": "python",
   "nbconvert_exporter": "python",
   "pygments_lexer": "ipython3",
   "version": "3.12.7"
  }
 },
 "nbformat": 4,
 "nbformat_minor": 5
}
